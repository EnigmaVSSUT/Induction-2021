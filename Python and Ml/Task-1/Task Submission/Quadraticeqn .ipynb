{
 "cells": [
  {
   "cell_type": "code",
   "execution_count": 8,
   "metadata": {},
   "outputs": [
    {
     "name": "stdout",
     "output_type": "stream",
     "text": [
      "Enter the value of a :1\n",
      "Enter the value of b :0\n",
      "Enter the value of c :1\n",
      "The given quadratic eqn is\n",
      "1 x**2 + 0 x + 1  = 0\n",
      "The solution is \n",
      "r1 =  0.0 + i 1.0\n",
      "r2 =  0.0 - i 1.0\n"
     ]
    }
   ],
   "source": [
    "import math\n",
    "a = int(input(\"Enter the value of a :\" ))\n",
    "b = int(input(\"Enter the value of b :\" ))\n",
    "c = int(input(\"Enter the value of c :\" ))\n",
    "d = b*b-4*a*c\n",
    "print(\"The given quadratic eqn is\")\n",
    "print(a,\"x**2 +\",b,\"x +\",c,\" = 0\")\n",
    "print(\"The solution is \")\n",
    "if(d==0):\n",
    "    print(\"r = \",-b/(2*a))\n",
    "elif(d>0):\n",
    "    print((\"r1 = \",-b+math.sqrt(d))/(2*a))\n",
    "    print((\"r2 = \",-b-math.sqrt(d))/(2*a))\n",
    "else:\n",
    "    print(\"r1 = \",-b/(2*a),\"+ i\",math.sqrt(-d)/(2*a))\n",
    "    print(\"r2 = \",-b/(2*a),\"- i\",math.sqrt(-d)/(2*a))"
   ]
  },
  {
   "cell_type": "code",
   "execution_count": null,
   "metadata": {},
   "outputs": [],
   "source": []
  }
 ],
 "metadata": {
  "kernelspec": {
   "display_name": "Python 3",
   "language": "python",
   "name": "python3"
  },
  "language_info": {
   "codemirror_mode": {
    "name": "ipython",
    "version": 3
   },
   "file_extension": ".py",
   "mimetype": "text/x-python",
   "name": "python",
   "nbconvert_exporter": "python",
   "pygments_lexer": "ipython3",
   "version": "3.8.5"
  }
 },
 "nbformat": 4,
 "nbformat_minor": 4
}
