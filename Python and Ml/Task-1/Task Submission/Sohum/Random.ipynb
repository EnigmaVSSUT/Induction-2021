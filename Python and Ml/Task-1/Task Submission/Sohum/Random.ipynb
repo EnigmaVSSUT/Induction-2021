{
 "cells": [
  {
   "cell_type": "code",
   "execution_count": 3,
   "metadata": {},
   "outputs": [
    {
     "name": "stdout",
     "output_type": "stream",
     "text": [
      "Enter the lower bound :1\n",
      "Enter the upper bound :100\n",
      "Random number summation list is :  520\n"
     ]
    }
   ],
   "source": [
    "import random\n",
    "\n",
    "a = int(input(\"Enter the lower bound :\"))\n",
    "b = int(input(\"Enter the upper bound :\"))\n",
    "res = sum(random.sample(range(a, b), 10))\n",
    "  \n",
    "# printing result\n",
    "print (\"Random number summation list is : \",res)"
   ]
  },
  {
   "cell_type": "code",
   "execution_count": null,
   "metadata": {},
   "outputs": [],
   "source": []
  }
 ],
 "metadata": {
  "kernelspec": {
   "display_name": "Python 3",
   "language": "python",
   "name": "python3"
  },
  "language_info": {
   "codemirror_mode": {
    "name": "ipython",
    "version": 3
   },
   "file_extension": ".py",
   "mimetype": "text/x-python",
   "name": "python",
   "nbconvert_exporter": "python",
   "pygments_lexer": "ipython3",
   "version": "3.8.5"
  }
 },
 "nbformat": 4,
 "nbformat_minor": 4
}
