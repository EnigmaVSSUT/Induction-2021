{
 "cells": [
  {
   "cell_type": "code",
   "execution_count": 5,
   "id": "recognized-preserve",
   "metadata": {},
   "outputs": [
    {
     "name": "stdin",
     "output_type": "stream",
     "text": [
      "From:  10\n",
      "To:  600\n"
     ]
    }
   ],
   "source": [
    "From = int(input(\"From: \"))  \n",
    "To = int(input(\"To: \"))"
   ]
  },
  {
   "cell_type": "code",
   "execution_count": null,
   "id": "communist-wallace",
   "metadata": {},
   "outputs": [],
   "source": [
    "\n",
    "find the sum of the cube of each digit"
   ]
  },
  {
   "cell_type": "code",
   "execution_count": 6,
   "id": "rapid-effort",
   "metadata": {},
   "outputs": [
    {
     "name": "stdout",
     "output_type": "stream",
     "text": [
      "Armstrong numbers within 10 and 600 are :\n",
      "64\n",
      "125\n",
      "153\n",
      "216\n",
      "370\n",
      "371\n",
      "407\n"
     ]
    }
   ],
   "source": [
    "print(\"Armstrong numbers within {0} and {1} are :\".format(From,To))\n",
    "for num in range(From,To + 1):\n",
    "   sum = 0  \n",
    "   temp = num  \n",
    "   while temp > 0:  \n",
    "       digit = temp % 10  \n",
    "       sum += digit ** 3  \n",
    "       temp //= 10  \n",
    "       if num == sum:  \n",
    "            print(num)"
   ]
  },
  {
   "cell_type": "code",
   "execution_count": null,
   "id": "medical-metabolism",
   "metadata": {},
   "outputs": [],
   "source": []
  }
 ],
 "metadata": {
  "kernelspec": {
   "display_name": "Python 3",
   "language": "python",
   "name": "python3"
  },
  "language_info": {
   "codemirror_mode": {
    "name": "ipython",
    "version": 3
   },
   "file_extension": ".py",
   "mimetype": "text/x-python",
   "name": "python",
   "nbconvert_exporter": "python",
   "pygments_lexer": "ipython3",
   "version": "3.7.8"
  }
 },
 "nbformat": 4,
 "nbformat_minor": 5
}
